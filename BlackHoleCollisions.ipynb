{
 "cells": [
  {
   "cell_type": "code",
   "execution_count": 191,
   "metadata": {},
   "outputs": [],
   "source": [
    "%matplotlib notebook\n",
    "import numpy as np\n",
    "import matplotlib.pyplot as plt"
   ]
  },
  {
   "cell_type": "code",
   "execution_count": 192,
   "metadata": {},
   "outputs": [],
   "source": [
    "# open files\n",
    "test = open(\"data/rv0.5/test\")\n",
    "rv05 = open(\"data/rv0.5/initial.collision.log\")\n",
    "rv2 = open(\"data/rv2.0/initial.collision_rv2.log\")\n",
    "bhcollrv05 = open(\"data/rv0.5/bh.collosion.log\",mode='w')"
   ]
  },
  {
   "cell_type": "code",
   "execution_count": 193,
   "metadata": {},
   "outputs": [],
   "source": [
    "# read in files line by line and seperate\n",
    "def extractData(infile,outfile):\n",
    "    line = infile.readline()\n",
    "    header = line\n",
    "    line = infile.readline()\n",
    "    while line:\n",
    "        sline = line.split(\" \")\n",
    "        type1 = -1\n",
    "        type2 = -1\n",
    "        type3 = -1\n",
    "        type4 = -1\n",
    "        for elem in sline[6:]:\n",
    "            if elem[:5] == \"type1\":\n",
    "                type1 = int(elem[6:])\n",
    "            elif elem[:5] == \"type2\":\n",
    "                type2 = int(elem[6:])\n",
    "            elif elem[:5] == \"type3\":\n",
    "                type3 = int(elem[6:])\n",
    "            elif elem[:5] == \"type4\":\n",
    "                type4 = int(elem[6:])\n",
    "        if type1 == 14 or type2 == 14 or type3 ==14 or type4 == 14:\n",
    "            outfile.write(line)\n",
    "        line = infile.readline()"
   ]
  },
  {
   "cell_type": "code",
   "execution_count": 194,
   "metadata": {
    "scrolled": false
   },
   "outputs": [],
   "source": [
    "extractData(rv05,bhcollrv05)"
   ]
  },
  {
   "cell_type": "code",
   "execution_count": 195,
   "metadata": {},
   "outputs": [],
   "source": [
    "# close files\n",
    "test.close()\n",
    "rv05.close()\n",
    "rv2.close()\n",
    "bhcollrv05.close()"
   ]
  },
  {
   "cell_type": "code",
   "execution_count": null,
   "metadata": {},
   "outputs": [],
   "source": []
  }
 ],
 "metadata": {
  "kernelspec": {
   "display_name": "Python 3",
   "language": "python",
   "name": "python3"
  },
  "language_info": {
   "codemirror_mode": {
    "name": "ipython",
    "version": 3
   },
   "file_extension": ".py",
   "mimetype": "text/x-python",
   "name": "python",
   "nbconvert_exporter": "python",
   "pygments_lexer": "ipython3",
   "version": "3.6.5"
  }
 },
 "nbformat": 4,
 "nbformat_minor": 2
}
